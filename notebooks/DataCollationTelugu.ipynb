{
 "cells": [
  {
   "cell_type": "code",
   "execution_count": 1,
   "id": "dbbe28e2-142f-4175-9b35-c09ee5fb9809",
   "metadata": {},
   "outputs": [
    {
     "data": {
      "text/plain": [
       "(   label                                               text\n",
       " 0      0  ఎమి వున్నావె  బాబు  ని గుద్ధ లొ సులౢ  పెట్టి ద...\n",
       " 1      1  నా మనసు నిండా మీ తలంపులే ఇక ఏం నేర్చుకోవాలి నక...\n",
       " 2      1  అమ్ము గాలు ,how would u know my name 🤔మీ పేరు ...\n",
       " 3      1  మీరు బాగానే చేస్తున్నారు అందరం అందరూ మీ ఇలా చే...\n",
       " 4      0  ఎవడురా ఇది పెటింది వాడు పెద్ద దొంగ జగన్ గాడు న...,\n",
       "    label                                               text\n",
       " 0      1  కరోనా డార్లింగ్,మా నుండి నువ్వు విడిపోయిన, మమ్...\n",
       " 1      0            విడు ఈపాటికి ఎంత మంది అమ్మయిలని దేగిండో\n",
       " 2      0                                  నీ sandulu కావాలి\n",
       " 3      0         నా కొడకా పవన కళ్యాణ్ వెంట్రుక కూడా పికలేవు\n",
       " 4      1                                  నా పరిస్థితి అంతే,\n",
       "    label                                               text\n",
       " 0      1  అయ్యయో 😣లేదు బ్రో గారు అని రెస్పెక్ట్ ఇచ్చినా ...\n",
       " 1      1  మన్నెం దొర ఇజ్జత్ తీసేసావ్ పబ్లిక్ లో అల్లూరి ...\n",
       " 2      1  ఆలా ఎలా కుదురుతుంది అండి. కృష్ణుడు ఒకసారి భార్...\n",
       " 3      1                       నీ యాక్టింగ్ కంటె చిన్నదే లే\n",
       " 4      0                           అరె కొజ్జా మనిషి అయ్యారా)"
      ]
     },
     "execution_count": 1,
     "metadata": {},
     "output_type": "execute_result"
    }
   ],
   "source": [
    "''''\n",
    "imacd - input macd files \n",
    "macd - processed macd files\n",
    "'''\n",
    "\n",
    "import pandas as pd\n",
    "\n",
    "imacd_tel_test = pd.read_csv('imacd_tel_test.csv')\n",
    "imacd_tel_train = pd.read_csv('imacd_tel_train.csv')\n",
    "imacd_tel_val = pd.read_csv('imacd_tel_val.csv')\n",
    "\n",
    "imacd_tel_test.head(), imacd_tel_train.head(), imacd_tel_val.head()"
   ]
  },
  {
   "cell_type": "code",
   "execution_count": 2,
   "id": "71e5a0e0-6fe4-47b5-a577-961c08627ac0",
   "metadata": {},
   "outputs": [
    {
     "data": {
      "text/html": [
       "<div>\n",
       "<style scoped>\n",
       "    .dataframe tbody tr th:only-of-type {\n",
       "        vertical-align: middle;\n",
       "    }\n",
       "\n",
       "    .dataframe tbody tr th {\n",
       "        vertical-align: top;\n",
       "    }\n",
       "\n",
       "    .dataframe thead th {\n",
       "        text-align: right;\n",
       "    }\n",
       "</style>\n",
       "<table border=\"1\" class=\"dataframe\">\n",
       "  <thead>\n",
       "    <tr style=\"text-align: right;\">\n",
       "      <th></th>\n",
       "      <th>uid</th>\n",
       "      <th>text</th>\n",
       "      <th>label_yn</th>\n",
       "    </tr>\n",
       "  </thead>\n",
       "  <tbody>\n",
       "    <tr>\n",
       "      <th>0</th>\n",
       "      <td>macd_tel_test_0</td>\n",
       "      <td>ఎమి వున్నావె  బాబు  ని గుద్ధ లొ సులౢ  పెట్టి ద...</td>\n",
       "      <td>0</td>\n",
       "    </tr>\n",
       "    <tr>\n",
       "      <th>1</th>\n",
       "      <td>macd_tel_test_1</td>\n",
       "      <td>నా మనసు నిండా మీ తలంపులే ఇక ఏం నేర్చుకోవాలి నక...</td>\n",
       "      <td>1</td>\n",
       "    </tr>\n",
       "    <tr>\n",
       "      <th>2</th>\n",
       "      <td>macd_tel_test_2</td>\n",
       "      <td>అమ్ము గాలు ,how would u know my name 🤔మీ పేరు ...</td>\n",
       "      <td>1</td>\n",
       "    </tr>\n",
       "    <tr>\n",
       "      <th>3</th>\n",
       "      <td>macd_tel_test_3</td>\n",
       "      <td>మీరు బాగానే చేస్తున్నారు అందరం అందరూ మీ ఇలా చే...</td>\n",
       "      <td>1</td>\n",
       "    </tr>\n",
       "    <tr>\n",
       "      <th>4</th>\n",
       "      <td>macd_tel_test_4</td>\n",
       "      <td>ఎవడురా ఇది పెటింది వాడు పెద్ద దొంగ జగన్ గాడు న...</td>\n",
       "      <td>0</td>\n",
       "    </tr>\n",
       "  </tbody>\n",
       "</table>\n",
       "</div>"
      ],
      "text/plain": [
       "               uid                                               text  \\\n",
       "0  macd_tel_test_0  ఎమి వున్నావె  బాబు  ని గుద్ధ లొ సులౢ  పెట్టి ద...   \n",
       "1  macd_tel_test_1  నా మనసు నిండా మీ తలంపులే ఇక ఏం నేర్చుకోవాలి నక...   \n",
       "2  macd_tel_test_2  అమ్ము గాలు ,how would u know my name 🤔మీ పేరు ...   \n",
       "3  macd_tel_test_3  మీరు బాగానే చేస్తున్నారు అందరం అందరూ మీ ఇలా చే...   \n",
       "4  macd_tel_test_4  ఎవడురా ఇది పెటింది వాడు పెద్ద దొంగ జగన్ గాడు న...   \n",
       "\n",
       "   label_yn  \n",
       "0         0  \n",
       "1         1  \n",
       "2         1  \n",
       "3         1  \n",
       "4         0  "
      ]
     },
     "execution_count": 2,
     "metadata": {},
     "output_type": "execute_result"
    }
   ],
   "source": [
    "imacd_tel_test['uid'] = ['macd_tel_test_' + str(i) for i in range(len(imacd_tel_test))]\n",
    "imacd_tel_test = imacd_tel_test.rename(columns={'label': 'label_yn'})\n",
    "imacd_tel_test = imacd_tel_test[['uid', 'text', 'label_yn']]\n",
    "\n",
    "imacd_tel_test.head()"
   ]
  },
  {
   "cell_type": "code",
   "execution_count": 3,
   "id": "95da64cc-3625-4f7e-b2a5-194c6ee62a5d",
   "metadata": {},
   "outputs": [
    {
     "data": {
      "text/plain": [
       "('macd_tel_test.csv', 'macd_tel_train.csv', 'macd_tel_val.csv')"
      ]
     },
     "execution_count": 3,
     "metadata": {},
     "output_type": "execute_result"
    }
   ],
   "source": [
    "imacd_tel_train['uid'] = ['macd_tel_train_' + str(i) for i in range(len(imacd_tel_train))]\n",
    "imacd_tel_train = imacd_tel_train.rename(columns={'label': 'label_yn'})\n",
    "imacd_tel_train = imacd_tel_train[['uid', 'text', 'label_yn']]\n",
    "\n",
    "imacd_tel_val['uid'] = ['macd_tel_val_' + str(i) for i in range(len(imacd_tel_val))]\n",
    "imacd_tel_val = imacd_tel_val.rename(columns={'label': 'label_yn'})\n",
    "imacd_tel_val = imacd_tel_val[['uid', 'text', 'label_yn']]\n",
    "\n",
    "output_test_path = 'macd_tel_test.csv'\n",
    "output_train_path = 'macd_tel_train.csv'\n",
    "output_val_path = 'macd_tel_val.csv'\n",
    "\n",
    "imacd_tel_test.to_csv(output_test_path, index=False)\n",
    "imacd_tel_train.to_csv(output_train_path, index=False)\n",
    "imacd_tel_val.to_csv(output_val_path, index=False)\n",
    "\n",
    "output_test_path, output_train_path, output_val_pathˀ"
   ]
  },
  {
   "cell_type": "code",
   "execution_count": 4,
   "id": "8166a5e3-7b7e-48b4-b9f4-af6d0147cb26",
   "metadata": {},
   "outputs": [],
   "source": [
    "combined_df = pd.concat([imacd_tel_test, imacd_tel_train, imacd_tel_val], ignore_index=True)\n",
    "\n",
    "combined_output_path = 'macd_tel.csv'\n",
    "combined_df.to_csv(combined_output_path, index=False)\n"
   ]
  },
  {
   "cell_type": "markdown",
   "id": "0a12d538-621b-47f1-a1c0-10d8911e3e9b",
   "metadata": {},
   "source": [
    "#### Combining all datasets"
   ]
  },
  {
   "cell_type": "code",
   "execution_count": 1,
   "id": "29d84b5a-fca2-4e83-9367-4d7daf3891dc",
   "metadata": {},
   "outputs": [],
   "source": [
    "import pandas as pd"
   ]
  },
  {
   "cell_type": "code",
   "execution_count": 10,
   "id": "7070e521-9d85-4fb1-97c2-e6d82bf56163",
   "metadata": {},
   "outputs": [],
   "source": [
    "training_files = ['macd_tel_train.csv', 'ltrc_tel_train.csv']\n",
    "test_files = ['macd_tel_test.csv', 'ltrc_tel_test.csv']\n",
    "val_files = ['macd_tel_val.csv', 'ltrc_tel_val.csv']\n",
    "data_dir = '../data/'\n",
    "train_frames = [pd.read_csv(f'{data_dir}/telugu/{file}') for file in training_files]\n",
    "test_frames = [pd.read_csv(f'{data_dir}/telugu/{file}') for file in test_files]\n",
    "val_frames = [pd.read_csv(f'{data_dir}/telugu/{file}') for file in val_files]"
   ]
  },
  {
   "cell_type": "code",
   "execution_count": 11,
   "id": "0bf6f1e1-1b09-4776-913d-747be1e8e747",
   "metadata": {},
   "outputs": [],
   "source": [
    "train_df = pd.concat(train_frames, ignore_index=True)\n",
    "test_df = pd.concat(test_frames, ignore_index=True)\n",
    "val_df = pd.concat(val_frames, ignore_index=True)"
   ]
  },
  {
   "cell_type": "code",
   "execution_count": 12,
   "id": "e2863103-4f70-4266-a3e8-165710f6261c",
   "metadata": {},
   "outputs": [],
   "source": [
    "train_df.to_csv(f'{data_dir}/telugu/final_train.csv', index=False)\n",
    "test_df.to_csv(f'{data_dir}/telugu/final_test.csv', index=False)\n",
    "val_df.to_csv(f'{data_dir}/telugu/final_val.csv', index=False)\n"
   ]
  }
 ],
 "metadata": {
  "kernelspec": {
   "display_name": "Python 3 (ipykernel)",
   "language": "python",
   "name": "python3"
  },
  "language_info": {
   "codemirror_mode": {
    "name": "ipython",
    "version": 3
   },
   "file_extension": ".py",
   "mimetype": "text/x-python",
   "name": "python",
   "nbconvert_exporter": "python",
   "pygments_lexer": "ipython3",
   "version": "3.9.16"
  }
 },
 "nbformat": 4,
 "nbformat_minor": 5
}
