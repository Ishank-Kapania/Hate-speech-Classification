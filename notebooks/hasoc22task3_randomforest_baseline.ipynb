{
 "cells": [
  {
   "cell_type": "code",
   "execution_count": null,
   "id": "dc334b53-373c-47bc-a852-b413f17d99fe",
   "metadata": {},
   "outputs": [],
   "source": [
    "Reference - https://github.com/dikshu-02/HASOC2022-task3/blob/main/classifier%20model%20codes/rf.ipynb"
   ]
  },
  {
   "cell_type": "code",
   "execution_count": 1,
   "id": "66cb100f-bf74-47a5-adda-ece4aa994c71",
   "metadata": {},
   "outputs": [],
   "source": [
    "import numpy as np\n",
    "import pandas as pd\n",
    "from sklearn import preprocessing \n",
    "from sklearn.feature_extraction.text import CountVectorizer\n",
    "from sklearn.ensemble import RandomForestRegressor\n",
    "from sklearn.metrics import accuracy_score"
   ]
  },
  {
   "cell_type": "code",
   "execution_count": 2,
   "id": "f4f48117-9c1e-48ce-a88f-5385d6565c1c",
   "metadata": {},
   "outputs": [],
   "source": [
    "train_df = pd.read_csv('l3cube_mr_train.csv')\n",
    "test_df = pd.read_csv('l3cube_mr_test.csv')\n",
    "le = preprocessing.LabelEncoder()\n",
    "train_df['encoded_label'] = le.fit_transform(train_df['label_yn'].astype(str))\n",
    "x_train = train_df['text'].replace(np.nan, \"\")\n",
    "y_train = train_df['encoded_label']\n",
    "x_test = test_df['text'].replace(np.nan, \"\")\n",
    "y_test = test_df['label_yn']"
   ]
  },
  {
   "cell_type": "code",
   "execution_count": 3,
   "id": "ee1a6454-2136-491f-81a8-c0e16df3589b",
   "metadata": {},
   "outputs": [
    {
     "name": "stdout",
     "output_type": "stream",
     "text": [
      "Accuracy on test set: 84.83%\n"
     ]
    }
   ],
   "source": [
    "vectorizer = CountVectorizer(analyzer='char', ngram_range=(1,3))\n",
    "x_train = vectorizer.fit_transform(x_train)\n",
    "x_test = vectorizer.transform(x_test)\n",
    "regressor = RandomForestRegressor(n_estimators = 100, random_state = 7)\n",
    "regressor.fit(x_train, y_train)\n",
    "y_pred = regressor.predict(x_test)\n",
    "pred = [int(val.round()) for val in y_pred]\n",
    "accuracy = accuracy_score(y_test, pred)\n",
    "print(f\"Accuracy on test set: {accuracy * 100:.2f}%\")\n",
    "\n",
    "submission = pd.DataFrame()\n",
    "submission['uid'] = test_df['uid']\n",
    "submission['predicted_label'] = pred\n",
    "submission.to_csv('path_to_output.csv', index=False)"
   ]
  },
  {
   "cell_type": "code",
   "execution_count": null,
   "id": "e59dbd77-c8a3-41ee-8a13-50899d688d41",
   "metadata": {},
   "outputs": [],
   "source": []
  }
 ],
 "metadata": {
  "kernelspec": {
   "display_name": "Python 3 (ipykernel)",
   "language": "python",
   "name": "python3"
  },
  "language_info": {
   "codemirror_mode": {
    "name": "ipython",
    "version": 3
   },
   "file_extension": ".py",
   "mimetype": "text/x-python",
   "name": "python",
   "nbconvert_exporter": "python",
   "pygments_lexer": "ipython3",
   "version": "3.10.0"
  }
 },
 "nbformat": 4,
 "nbformat_minor": 5
}
